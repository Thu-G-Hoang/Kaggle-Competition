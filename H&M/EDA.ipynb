{
 "cells": [
  {
   "cell_type": "code",
   "execution_count": 1,
   "id": "615eae09",
   "metadata": {},
   "outputs": [],
   "source": [
    "#!pip install seaborn"
   ]
  },
  {
   "cell_type": "code",
   "execution_count": 2,
   "id": "4ac7102e",
   "metadata": {},
   "outputs": [],
   "source": [
    "import numpy as np\n",
    "import pandas as pd\n",
    "from matplotlib import pyplot as plt\n",
    "import seaborn as sns\n",
    "from tqdm.notebook import tqdm"
   ]
  },
  {
   "cell_type": "code",
   "execution_count": 3,
   "id": "53fd2566",
   "metadata": {},
   "outputs": [],
   "source": [
    "articles = pd.read_csv('../h-and-m-personalized-fashion-recommendations/articles.csv')"
   ]
  },
  {
   "cell_type": "code",
   "execution_count": 4,
   "id": "f82a78a6",
   "metadata": {},
   "outputs": [],
   "source": [
    "customers = pd.read_csv('../h-and-m-personalized-fashion-recommendations/customers.csv')\n",
    "transactions = pd.read_csv('../h-and-m-personalized-fashion-recommendations/transactions_train.csv')"
   ]
  },
  {
   "cell_type": "code",
   "execution_count": 5,
   "id": "423b98f5",
   "metadata": {},
   "outputs": [
    {
     "name": "stdout",
     "output_type": "stream",
     "text": [
      "(105542, 25) (1371980, 7) (31788324, 5)\n"
     ]
    }
   ],
   "source": [
    "print(articles.shape, customers.shape, transactions.shape)"
   ]
  },
  {
   "cell_type": "markdown",
   "id": "56c5cd94",
   "metadata": {},
   "source": [
    "### 1. ARTICLES"
   ]
  },
  {
   "cell_type": "code",
   "execution_count": 6,
   "id": "30ad69fa",
   "metadata": {},
   "outputs": [
    {
     "data": {
      "text/html": [
       "<div>\n",
       "<style scoped>\n",
       "    .dataframe tbody tr th:only-of-type {\n",
       "        vertical-align: middle;\n",
       "    }\n",
       "\n",
       "    .dataframe tbody tr th {\n",
       "        vertical-align: top;\n",
       "    }\n",
       "\n",
       "    .dataframe thead th {\n",
       "        text-align: right;\n",
       "    }\n",
       "</style>\n",
       "<table border=\"1\" class=\"dataframe\">\n",
       "  <thead>\n",
       "    <tr style=\"text-align: right;\">\n",
       "      <th></th>\n",
       "      <th>article_id</th>\n",
       "      <th>product_code</th>\n",
       "      <th>prod_name</th>\n",
       "      <th>product_type_no</th>\n",
       "      <th>product_type_name</th>\n",
       "      <th>product_group_name</th>\n",
       "      <th>graphical_appearance_no</th>\n",
       "      <th>graphical_appearance_name</th>\n",
       "      <th>colour_group_code</th>\n",
       "      <th>colour_group_name</th>\n",
       "      <th>perceived_colour_value_id</th>\n",
       "      <th>perceived_colour_value_name</th>\n",
       "      <th>perceived_colour_master_id</th>\n",
       "      <th>perceived_colour_master_name</th>\n",
       "      <th>department_no</th>\n",
       "      <th>department_name</th>\n",
       "      <th>index_code</th>\n",
       "      <th>index_name</th>\n",
       "      <th>index_group_no</th>\n",
       "      <th>index_group_name</th>\n",
       "      <th>section_no</th>\n",
       "      <th>section_name</th>\n",
       "      <th>garment_group_no</th>\n",
       "      <th>garment_group_name</th>\n",
       "      <th>detail_desc</th>\n",
       "    </tr>\n",
       "  </thead>\n",
       "  <tbody>\n",
       "    <tr>\n",
       "      <th>0</th>\n",
       "      <td>108775015</td>\n",
       "      <td>108775</td>\n",
       "      <td>Strap top</td>\n",
       "      <td>253</td>\n",
       "      <td>Vest top</td>\n",
       "      <td>Garment Upper body</td>\n",
       "      <td>1010016</td>\n",
       "      <td>Solid</td>\n",
       "      <td>9</td>\n",
       "      <td>Black</td>\n",
       "      <td>4</td>\n",
       "      <td>Dark</td>\n",
       "      <td>5</td>\n",
       "      <td>Black</td>\n",
       "      <td>1676</td>\n",
       "      <td>Jersey Basic</td>\n",
       "      <td>A</td>\n",
       "      <td>Ladieswear</td>\n",
       "      <td>1</td>\n",
       "      <td>Ladieswear</td>\n",
       "      <td>16</td>\n",
       "      <td>Womens Everyday Basics</td>\n",
       "      <td>1002</td>\n",
       "      <td>Jersey Basic</td>\n",
       "      <td>Jersey top with narrow shoulder straps.</td>\n",
       "    </tr>\n",
       "    <tr>\n",
       "      <th>1</th>\n",
       "      <td>108775044</td>\n",
       "      <td>108775</td>\n",
       "      <td>Strap top</td>\n",
       "      <td>253</td>\n",
       "      <td>Vest top</td>\n",
       "      <td>Garment Upper body</td>\n",
       "      <td>1010016</td>\n",
       "      <td>Solid</td>\n",
       "      <td>10</td>\n",
       "      <td>White</td>\n",
       "      <td>3</td>\n",
       "      <td>Light</td>\n",
       "      <td>9</td>\n",
       "      <td>White</td>\n",
       "      <td>1676</td>\n",
       "      <td>Jersey Basic</td>\n",
       "      <td>A</td>\n",
       "      <td>Ladieswear</td>\n",
       "      <td>1</td>\n",
       "      <td>Ladieswear</td>\n",
       "      <td>16</td>\n",
       "      <td>Womens Everyday Basics</td>\n",
       "      <td>1002</td>\n",
       "      <td>Jersey Basic</td>\n",
       "      <td>Jersey top with narrow shoulder straps.</td>\n",
       "    </tr>\n",
       "    <tr>\n",
       "      <th>2</th>\n",
       "      <td>108775051</td>\n",
       "      <td>108775</td>\n",
       "      <td>Strap top (1)</td>\n",
       "      <td>253</td>\n",
       "      <td>Vest top</td>\n",
       "      <td>Garment Upper body</td>\n",
       "      <td>1010017</td>\n",
       "      <td>Stripe</td>\n",
       "      <td>11</td>\n",
       "      <td>Off White</td>\n",
       "      <td>1</td>\n",
       "      <td>Dusty Light</td>\n",
       "      <td>9</td>\n",
       "      <td>White</td>\n",
       "      <td>1676</td>\n",
       "      <td>Jersey Basic</td>\n",
       "      <td>A</td>\n",
       "      <td>Ladieswear</td>\n",
       "      <td>1</td>\n",
       "      <td>Ladieswear</td>\n",
       "      <td>16</td>\n",
       "      <td>Womens Everyday Basics</td>\n",
       "      <td>1002</td>\n",
       "      <td>Jersey Basic</td>\n",
       "      <td>Jersey top with narrow shoulder straps.</td>\n",
       "    </tr>\n",
       "  </tbody>\n",
       "</table>\n",
       "</div>"
      ],
      "text/plain": [
       "   article_id  product_code      prod_name  product_type_no product_type_name  \\\n",
       "0   108775015        108775      Strap top              253          Vest top   \n",
       "1   108775044        108775      Strap top              253          Vest top   \n",
       "2   108775051        108775  Strap top (1)              253          Vest top   \n",
       "\n",
       "   product_group_name  graphical_appearance_no graphical_appearance_name  \\\n",
       "0  Garment Upper body                  1010016                     Solid   \n",
       "1  Garment Upper body                  1010016                     Solid   \n",
       "2  Garment Upper body                  1010017                    Stripe   \n",
       "\n",
       "   colour_group_code colour_group_name  perceived_colour_value_id  \\\n",
       "0                  9             Black                          4   \n",
       "1                 10             White                          3   \n",
       "2                 11         Off White                          1   \n",
       "\n",
       "  perceived_colour_value_name  perceived_colour_master_id  \\\n",
       "0                        Dark                           5   \n",
       "1                       Light                           9   \n",
       "2                 Dusty Light                           9   \n",
       "\n",
       "  perceived_colour_master_name  department_no department_name index_code  \\\n",
       "0                        Black           1676    Jersey Basic          A   \n",
       "1                        White           1676    Jersey Basic          A   \n",
       "2                        White           1676    Jersey Basic          A   \n",
       "\n",
       "   index_name  index_group_no index_group_name  section_no  \\\n",
       "0  Ladieswear               1       Ladieswear          16   \n",
       "1  Ladieswear               1       Ladieswear          16   \n",
       "2  Ladieswear               1       Ladieswear          16   \n",
       "\n",
       "             section_name  garment_group_no garment_group_name  \\\n",
       "0  Womens Everyday Basics              1002       Jersey Basic   \n",
       "1  Womens Everyday Basics              1002       Jersey Basic   \n",
       "2  Womens Everyday Basics              1002       Jersey Basic   \n",
       "\n",
       "                               detail_desc  \n",
       "0  Jersey top with narrow shoulder straps.  \n",
       "1  Jersey top with narrow shoulder straps.  \n",
       "2  Jersey top with narrow shoulder straps.  "
      ]
     },
     "execution_count": 6,
     "metadata": {},
     "output_type": "execute_result"
    }
   ],
   "source": [
    "pd.set_option('display.max_columns', 50)\n",
    "articles.head(3)"
   ]
  },
  {
   "cell_type": "code",
   "execution_count": 7,
   "id": "50993b0e",
   "metadata": {},
   "outputs": [
    {
     "data": {
      "text/plain": [
       "(10, (105542, 25), 105542)"
      ]
     },
     "execution_count": 7,
     "metadata": {},
     "output_type": "execute_result"
    }
   ],
   "source": [
    "len(set(articles['index_name'])), articles.shape, len(set(articles['article_id']))"
   ]
  },
  {
   "cell_type": "code",
   "execution_count": 8,
   "id": "b87a1b7e",
   "metadata": {
    "scrolled": true
   },
   "outputs": [
    {
     "data": {
      "text/plain": [
       "Ladieswear                        26001\n",
       "Divided                           15149\n",
       "Menswear                          12553\n",
       "Children Sizes 92-140             12007\n",
       "Children Sizes 134-170             9214\n",
       "Baby Sizes 50-98                   8875\n",
       "Ladies Accessories                 6961\n",
       "Lingeries/Tights                   6775\n",
       "Children Accessories, Swimwear     4615\n",
       "Sport                              3392\n",
       "Name: index_name, dtype: int64"
      ]
     },
     "execution_count": 8,
     "metadata": {},
     "output_type": "execute_result"
    }
   ],
   "source": [
    "articles['index_name'].value_counts()"
   ]
  },
  {
   "cell_type": "code",
   "execution_count": 9,
   "id": "bbc93938",
   "metadata": {},
   "outputs": [
    {
     "data": {
      "image/png": "[encoded data removed]",
      "text/plain": [
       "<Figure size 576x360 with 1 Axes>"
      ]
     },
     "metadata": {
      "needs_background": "light"
     },
     "output_type": "display_data"
    }
   ],
   "source": [
    "f, ax = plt.subplots(figsize = (8,5))\n",
    "ax = sns.histplot(articles, y = 'index_name', color = 'orange')\n",
    "ax.set_xlabel('count by index name')\n",
    "ax.set_ylabel('index_name')\n",
    "plt.show()"
   ]
  },
  {
   "cell_type": "code",
   "execution_count": 10,
   "id": "62f14fc5",
   "metadata": {},
   "outputs": [
    {
     "data": {
      "text/plain": [
       "(21, 5)"
      ]
     },
     "execution_count": 10,
     "metadata": {},
     "output_type": "execute_result"
    }
   ],
   "source": [
    "len(set(articles['garment_group_name'])), len(set(articles['index_group_name'])) "
   ]
  },
  {
   "cell_type": "code",
   "execution_count": 11,
   "id": "9c8e16d5",
   "metadata": {},
   "outputs": [
    {
     "data": {
      "image/png": "[encoded data removed]",
      "text/plain": [
       "<Figure size 576x360 with 1 Axes>"
      ]
     },
     "metadata": {
      "needs_background": "light"
     },
     "output_type": "display_data"
    }
   ],
   "source": [
    "f, ax = plt.subplots(figsize = (8,5))\n",
    "ax = sns.histplot(articles, y = 'garment_group_name', color = 'orange', hue = 'index_group_name', multiple = 'stack')\n",
    "ax.set_xlabel('count by garment_group')\n",
    "ax.set_ylabel('garment_group')\n",
    "plt.show()"
   ]
  },
  {
   "cell_type": "code",
   "execution_count": 12,
   "id": "b02e0304",
   "metadata": {
    "scrolled": true
   },
   "outputs": [
    {
     "data": {
      "text/plain": [
       "index_group_name  index_name                    \n",
       "Baby/Children     Baby Sizes 50-98                   8875\n",
       "                  Children Accessories, Swimwear     4615\n",
       "                  Children Sizes 134-170             9214\n",
       "                  Children Sizes 92-140             12007\n",
       "Divided           Divided                           15149\n",
       "Ladieswear        Ladies Accessories                 6961\n",
       "                  Ladieswear                        26001\n",
       "                  Lingeries/Tights                   6775\n",
       "Menswear          Menswear                          12553\n",
       "Sport             Sport                              3392\n",
       "Name: article_id, dtype: int64"
      ]
     },
     "execution_count": 12,
     "metadata": {},
     "output_type": "execute_result"
    }
   ],
   "source": [
    "articles.groupby(['index_group_name', 'index_name']).count()['article_id']"
   ]
  },
  {
   "cell_type": "code",
   "execution_count": 13,
   "id": "43a194b6",
   "metadata": {
    "scrolled": false
   },
   "outputs": [
    {
     "data": {
      "text/plain": [
       "product_group_name     product_type_name       \n",
       "Accessories            Accessories set                 7\n",
       "                       Alice band                      6\n",
       "                       Baby Bib                        3\n",
       "                       Bag                          1280\n",
       "                       Beanie                         56\n",
       "                       Belt                          458\n",
       "                       Bracelet                      180\n",
       "                       Braces                          3\n",
       "                       Bucket hat                      7\n",
       "                       Cap                            13\n",
       "                       Cap/peaked                    573\n",
       "                       Dog Wear                       20\n",
       "                       Earring                      1159\n",
       "                       Earrings                       11\n",
       "                       Eyeglasses                      2\n",
       "                       Felt hat                       10\n",
       "                       Giftbox                        15\n",
       "                       Gloves                        367\n",
       "                       Hair clip                     244\n",
       "                       Hair string                   238\n",
       "                       Hair ties                      24\n",
       "                       Hair/alice band               854\n",
       "                       Hairband                        2\n",
       "                       Hat/beanie                   1349\n",
       "                       Hat/brim                      396\n",
       "                       Headband                        1\n",
       "                       Necklace                      581\n",
       "                       Other accessories            1034\n",
       "                       Ring                          240\n",
       "                       Scarf                        1013\n",
       "                       Soft Toys                      46\n",
       "                       Straw hat                       6\n",
       "                       Sunglasses                    621\n",
       "                       Tie                           141\n",
       "                       Umbrella                       26\n",
       "                       Wallet                         77\n",
       "                       Watch                          73\n",
       "                       Waterbottle                    22\n",
       "Bags                   Backpack                        6\n",
       "                       Bumbag                          1\n",
       "                       Cross-body bag                  5\n",
       "                       Shoulder bag                    2\n",
       "                       Tote bag                        2\n",
       "                       Weekend/Gym bag                 9\n",
       "Cosmetic               Chem. cosmetics                 3\n",
       "                       Fine cosmetics                 46\n",
       "Fun                    Toy                             2\n",
       "Furniture              Side table                     13\n",
       "Garment Full body      Costumes                       90\n",
       "                       Dress                       10362\n",
       "                       Dungarees                     309\n",
       "                       Garment Set                  1320\n",
       "                       Jumpsuit/Playsuit            1147\n",
       "                       Outdoor overall                64\n",
       "Garment Lower body     Leggings/Tights              1878\n",
       "                       Outdoor trousers              130\n",
       "                       Shorts                       3939\n",
       "                       Skirt                        2696\n",
       "                       Trousers                    11169\n",
       "Garment Upper body     Blazer                       1110\n",
       "                       Blouse                       3979\n",
       "                       Bodysuit                      913\n",
       "                       Cardigan                     1550\n",
       "                       Coat                          460\n",
       "                       Hoodie                       2356\n",
       "                       Jacket                       3940\n",
       "                       Outdoor Waistcoat             154\n",
       "                       Polo shirt                    449\n",
       "                       Shirt                        3405\n",
       "                       Sweater                      9302\n",
       "                       T-shirt                      7904\n",
       "                       Tailored Waistcoat             73\n",
       "                       Top                          4155\n",
       "                       Vest top                     2991\n",
       "Garment and Shoe care  Clothing mist                   1\n",
       "                       Sewing kit                      1\n",
       "                       Stain remover spray             2\n",
       "                       Washing bag                     1\n",
       "                       Wood balls                      1\n",
       "                       Zipper head                     3\n",
       "Interior textile       Blanket                         1\n",
       "                       Cushion                         1\n",
       "                       Towel                           1\n",
       "Items                  Dog wear                        7\n",
       "                       Keychain                        1\n",
       "                       Mobile case                     4\n",
       "                       Umbrella                        3\n",
       "                       Wireless earphone case          2\n",
       "Nightwear              Night gown                    171\n",
       "                       Pyjama bottom                 220\n",
       "                       Pyjama jumpsuit/playsuit      388\n",
       "                       Pyjama set                   1120\n",
       "Shoes                  Ballerinas                    372\n",
       "                       Bootie                         31\n",
       "                       Boots                        1028\n",
       "                       Flat shoe                     165\n",
       "                       Flat shoes                     10\n",
       "                       Flip flop                     125\n",
       "                       Heeled sandals                202\n",
       "                       Heels                          22\n",
       "                       Moccasins                       4\n",
       "                       Other shoe                    395\n",
       "                       Pre-walkers                     1\n",
       "                       Pumps                         188\n",
       "                       Sandals                       757\n",
       "                       Slippers                      249\n",
       "                       Sneakers                     1621\n",
       "                       Wedge                         113\n",
       "Socks & Tights         Leg warmers                     7\n",
       "                       Socks                        1889\n",
       "                       Underwear Tights              546\n",
       "Stationery             Marker pen                      5\n",
       "Swimwear               Bikini top                    850\n",
       "                       Sarong                         66\n",
       "                       Swimsuit                      662\n",
       "                       Swimwear bottom              1307\n",
       "                       Swimwear set                  192\n",
       "                       Swimwear top                   50\n",
       "Underwear              Bra                          2212\n",
       "                       Bra extender                    1\n",
       "                       Kids Underwear top             96\n",
       "                       Long John                      30\n",
       "                       Nipple covers                  19\n",
       "                       Robe                          136\n",
       "                       Underdress                     20\n",
       "                       Underwear body                174\n",
       "                       Underwear bottom             2748\n",
       "                       Underwear corset                7\n",
       "                       Underwear set                  47\n",
       "Underwear/nightwear    Sleep Bag                       6\n",
       "                       Sleeping sack                  48\n",
       "Unknown                Unknown                       121\n",
       "Name: article_id, dtype: int64"
      ]
     },
     "execution_count": 13,
     "metadata": {},
     "output_type": "execute_result"
    }
   ],
   "source": [
    "pd.options.display.max_rows = None\n",
    "articles.groupby(['product_group_name', 'product_type_name']).count()['article_id']"
   ]
  },
  {
   "cell_type": "code",
   "execution_count": 14,
   "id": "8f004bbc",
   "metadata": {
    "scrolled": true
   },
   "outputs": [
    {
     "data": {
      "text/plain": [
       "Index(['article_id', 'product_code', 'prod_name', 'product_type_no',\n",
       "       'product_type_name', 'product_group_name', 'graphical_appearance_no',\n",
       "       'graphical_appearance_name', 'colour_group_code', 'colour_group_name',\n",
       "       'perceived_colour_value_id', 'perceived_colour_value_name',\n",
       "       'perceived_colour_master_id', 'perceived_colour_master_name',\n",
       "       'department_no', 'department_name', 'index_code', 'index_name',\n",
       "       'index_group_no', 'index_group_name', 'section_no', 'section_name',\n",
       "       'garment_group_no', 'garment_group_name', 'detail_desc'],\n",
       "      dtype='object')"
      ]
     },
     "execution_count": 14,
     "metadata": {},
     "output_type": "execute_result"
    }
   ],
   "source": [
    "articles.columns"
   ]
  },
  {
   "cell_type": "code",
   "execution_count": 15,
   "id": "d2ab0a76",
   "metadata": {
    "scrolled": true
   },
   "outputs": [
    {
     "name": "stdout",
     "output_type": "stream",
     "text": [
      "number of unique values in prod_name: 45875\n",
      "number of unique values in product_type_name: 131\n",
      "number of unique values in product_group_name: 19\n",
      "number of unique values in graphical_appearance_name: 30\n",
      "number of unique values in colour_group_name: 50\n",
      "number of unique values in perceived_colour_value_name: 8\n",
      "number of unique values in perceived_colour_master_name: 20\n",
      "number of unique values in department_name: 250\n",
      "number of unique values in index_name: 10\n",
      "number of unique values in index_group_name: 5\n",
      "number of unique values in section_name: 56\n",
      "number of unique values in garment_group_name: 21\n",
      "number of unique values in detail_desc: 43404\n"
     ]
    }
   ],
   "source": [
    "for col in articles.columns:\n",
    "    if not 'no' in col and not 'id' in col and not 'code' in col:\n",
    "        n_value = articles[col].nunique()\n",
    "        print(f'number of unique values in {col}: {n_value}')"
   ]
  },
  {
   "cell_type": "markdown",
   "id": "0cecad93",
   "metadata": {},
   "source": [
    "### 2. CUSTOMERS"
   ]
  },
  {
   "cell_type": "code",
   "execution_count": 16,
   "id": "3d79c59d",
   "metadata": {},
   "outputs": [
    {
     "data": {
      "text/html": [
       "<div>\n",
       "<style scoped>\n",
       "    .dataframe tbody tr th:only-of-type {\n",
       "        vertical-align: middle;\n",
       "    }\n",
       "\n",
       "    .dataframe tbody tr th {\n",
       "        vertical-align: top;\n",
       "    }\n",
       "\n",
       "    .dataframe thead th {\n",
       "        text-align: right;\n",
       "    }\n",
       "</style>\n",
       "<table border=\"1\" class=\"dataframe\">\n",
       "  <thead>\n",
       "    <tr style=\"text-align: right;\">\n",
       "      <th></th>\n",
       "      <th>customer_id</th>\n",
       "      <th>FN</th>\n",
       "      <th>Active</th>\n",
       "      <th>club_member_status</th>\n",
       "      <th>fashion_news_frequency</th>\n",
       "      <th>age</th>\n",
       "      <th>postal_code</th>\n",
       "    </tr>\n",
       "  </thead>\n",
       "  <tbody>\n",
       "    <tr>\n",
       "      <th>0</th>\n",
       "      <td>00000dbacae5abe5e23885899a1fa44253a17956c6d1c3...</td>\n",
       "      <td>NaN</td>\n",
       "      <td>NaN</td>\n",
       "      <td>ACTIVE</td>\n",
       "      <td>NONE</td>\n",
       "      <td>49.0</td>\n",
       "      <td>52043ee2162cf5aa7ee79974281641c6f11a68d276429a...</td>\n",
       "    </tr>\n",
       "    <tr>\n",
       "      <th>1</th>\n",
       "      <td>0000423b00ade91418cceaf3b26c6af3dd342b51fd051e...</td>\n",
       "      <td>NaN</td>\n",
       "      <td>NaN</td>\n",
       "      <td>ACTIVE</td>\n",
       "      <td>NONE</td>\n",
       "      <td>25.0</td>\n",
       "      <td>2973abc54daa8a5f8ccfe9362140c63247c5eee03f1d93...</td>\n",
       "    </tr>\n",
       "    <tr>\n",
       "      <th>2</th>\n",
       "      <td>000058a12d5b43e67d225668fa1f8d618c13dc232df0ca...</td>\n",
       "      <td>NaN</td>\n",
       "      <td>NaN</td>\n",
       "      <td>ACTIVE</td>\n",
       "      <td>NONE</td>\n",
       "      <td>24.0</td>\n",
       "      <td>64f17e6a330a85798e4998f62d0930d14db8db1c054af6...</td>\n",
       "    </tr>\n",
       "  </tbody>\n",
       "</table>\n",
       "</div>"
      ],
      "text/plain": [
       "                                         customer_id  FN  Active  \\\n",
       "0  00000dbacae5abe5e23885899a1fa44253a17956c6d1c3... NaN     NaN   \n",
       "1  0000423b00ade91418cceaf3b26c6af3dd342b51fd051e... NaN     NaN   \n",
       "2  000058a12d5b43e67d225668fa1f8d618c13dc232df0ca... NaN     NaN   \n",
       "\n",
       "  club_member_status fashion_news_frequency   age  \\\n",
       "0             ACTIVE                   NONE  49.0   \n",
       "1             ACTIVE                   NONE  25.0   \n",
       "2             ACTIVE                   NONE  24.0   \n",
       "\n",
       "                                         postal_code  \n",
       "0  52043ee2162cf5aa7ee79974281641c6f11a68d276429a...  \n",
       "1  2973abc54daa8a5f8ccfe9362140c63247c5eee03f1d93...  \n",
       "2  64f17e6a330a85798e4998f62d0930d14db8db1c054af6...  "
      ]
     },
     "execution_count": 16,
     "metadata": {},
     "output_type": "execute_result"
    }
   ],
   "source": [
    "customers.head(3)"
   ]
  },
  {
   "cell_type": "code",
   "execution_count": 17,
   "id": "7a1e525e",
   "metadata": {},
   "outputs": [
    {
     "data": {
      "text/plain": [
       "Index(['customer_id', 'FN', 'Active', 'club_member_status',\n",
       "       'fashion_news_frequency', 'age', 'postal_code'],\n",
       "      dtype='object')"
      ]
     },
     "execution_count": 17,
     "metadata": {},
     "output_type": "execute_result"
    }
   ],
   "source": [
    "customers.columns"
   ]
  },
  {
   "cell_type": "code",
   "execution_count": 18,
   "id": "184d4205",
   "metadata": {
    "scrolled": true
   },
   "outputs": [
    {
     "data": {
      "text/plain": [
       "(1371980, (1371980, 7))"
      ]
     },
     "execution_count": 18,
     "metadata": {},
     "output_type": "execute_result"
    }
   ],
   "source": [
    "customers['customer_id'].nunique(), customers.shape"
   ]
  },
  {
   "cell_type": "code",
   "execution_count": 19,
   "id": "961e510c",
   "metadata": {},
   "outputs": [
    {
     "data": {
      "text/plain": [
       "0"
      ]
     },
     "execution_count": 19,
     "metadata": {},
     "output_type": "execute_result"
    }
   ],
   "source": [
    "customers.shape[0] - customers['customer_id'].nunique()"
   ]
  },
  {
   "cell_type": "code",
   "execution_count": 20,
   "id": "38e2324e",
   "metadata": {},
   "outputs": [
    {
     "data": {
      "text/plain": [
       "FN\n",
       "1.0    476930\n",
       "Name: customer_id, dtype: int64"
      ]
     },
     "execution_count": 20,
     "metadata": {},
     "output_type": "execute_result"
    }
   ],
   "source": [
    "customers.groupby(['FN']).count()['customer_id']"
   ]
  },
  {
   "cell_type": "code",
   "execution_count": 21,
   "id": "65952ef5",
   "metadata": {
    "scrolled": true
   },
   "outputs": [
    {
     "data": {
      "text/plain": [
       "895050"
      ]
     },
     "execution_count": 21,
     "metadata": {},
     "output_type": "execute_result"
    }
   ],
   "source": [
    "sum(customers['FN'].isnull())"
   ]
  },
  {
   "cell_type": "code",
   "execution_count": 22,
   "id": "047cd651",
   "metadata": {
    "scrolled": true
   },
   "outputs": [
    {
     "data": {
      "text/plain": [
       "Active\n",
       "1.0    464404\n",
       "Name: customer_id, dtype: int64"
      ]
     },
     "execution_count": 22,
     "metadata": {},
     "output_type": "execute_result"
    }
   ],
   "source": [
    "customers.groupby(['Active']).count()['customer_id']"
   ]
  },
  {
   "cell_type": "code",
   "execution_count": 23,
   "id": "c78fc127",
   "metadata": {},
   "outputs": [],
   "source": [
    "data_postal = customers.groupby('postal_code', as_index=False).count().sort_values('customer_id', ascending = False)"
   ]
  },
  {
   "cell_type": "code",
   "execution_count": 24,
   "id": "29709e0a",
   "metadata": {},
   "outputs": [
    {
     "data": {
      "text/html": [
       "<div>\n",
       "<style scoped>\n",
       "    .dataframe tbody tr th:only-of-type {\n",
       "        vertical-align: middle;\n",
       "    }\n",
       "\n",
       "    .dataframe tbody tr th {\n",
       "        vertical-align: top;\n",
       "    }\n",
       "\n",
       "    .dataframe thead th {\n",
       "        text-align: right;\n",
       "    }\n",
       "</style>\n",
       "<table border=\"1\" class=\"dataframe\">\n",
       "  <thead>\n",
       "    <tr style=\"text-align: right;\">\n",
       "      <th></th>\n",
       "      <th>postal_code</th>\n",
       "      <th>customer_id</th>\n",
       "      <th>FN</th>\n",
       "      <th>Active</th>\n",
       "      <th>club_member_status</th>\n",
       "      <th>fashion_news_frequency</th>\n",
       "      <th>age</th>\n",
       "    </tr>\n",
       "  </thead>\n",
       "  <tbody>\n",
       "    <tr>\n",
       "      <th>61034</th>\n",
       "      <td>2c29ae653a9282cce4151bd87643c907644e09541abc28...</td>\n",
       "      <td>120303</td>\n",
       "      <td>42874</td>\n",
       "      <td>39886</td>\n",
       "      <td>118281</td>\n",
       "      <td>114377</td>\n",
       "      <td>118002</td>\n",
       "    </tr>\n",
       "    <tr>\n",
       "      <th>281937</th>\n",
       "      <td>cc4ed85e30f4977dae47662ddc468cd2eec11472de6fac...</td>\n",
       "      <td>261</td>\n",
       "      <td>109</td>\n",
       "      <td>104</td>\n",
       "      <td>261</td>\n",
       "      <td>261</td>\n",
       "      <td>260</td>\n",
       "    </tr>\n",
       "    <tr>\n",
       "      <th>156090</th>\n",
       "      <td>714976379549eb90aae4a71bca6c7402cc646ae7c40f6c...</td>\n",
       "      <td>159</td>\n",
       "      <td>90</td>\n",
       "      <td>88</td>\n",
       "      <td>159</td>\n",
       "      <td>159</td>\n",
       "      <td>158</td>\n",
       "    </tr>\n",
       "    <tr>\n",
       "      <th>171208</th>\n",
       "      <td>7c1fa3b0ec1d37ce2c3f34f63bd792f3b4494f324b6be5...</td>\n",
       "      <td>157</td>\n",
       "      <td>55</td>\n",
       "      <td>54</td>\n",
       "      <td>157</td>\n",
       "      <td>156</td>\n",
       "      <td>156</td>\n",
       "    </tr>\n",
       "    <tr>\n",
       "      <th>126228</th>\n",
       "      <td>5b7eb31eabebd3277de632b82267286d847fd5d44287ee...</td>\n",
       "      <td>156</td>\n",
       "      <td>42</td>\n",
       "      <td>41</td>\n",
       "      <td>156</td>\n",
       "      <td>156</td>\n",
       "      <td>155</td>\n",
       "    </tr>\n",
       "  </tbody>\n",
       "</table>\n",
       "</div>"
      ],
      "text/plain": [
       "                                              postal_code  customer_id     FN  \\\n",
       "61034   2c29ae653a9282cce4151bd87643c907644e09541abc28...       120303  42874   \n",
       "281937  cc4ed85e30f4977dae47662ddc468cd2eec11472de6fac...          261    109   \n",
       "156090  714976379549eb90aae4a71bca6c7402cc646ae7c40f6c...          159     90   \n",
       "171208  7c1fa3b0ec1d37ce2c3f34f63bd792f3b4494f324b6be5...          157     55   \n",
       "126228  5b7eb31eabebd3277de632b82267286d847fd5d44287ee...          156     42   \n",
       "\n",
       "        Active  club_member_status  fashion_news_frequency     age  \n",
       "61034    39886              118281                  114377  118002  \n",
       "281937     104                 261                     261     260  \n",
       "156090      88                 159                     159     158  \n",
       "171208      54                 157                     156     156  \n",
       "126228      41                 156                     156     155  "
      ]
     },
     "execution_count": 24,
     "metadata": {},
     "output_type": "execute_result"
    }
   ],
   "source": [
    "data_postal.head()"
   ]
  },
  {
   "cell_type": "code",
   "execution_count": 25,
   "id": "2a030068",
   "metadata": {
    "scrolled": true
   },
   "outputs": [
    {
     "data": {
      "text/plain": [
       "((352899, 7), 352899)"
      ]
     },
     "execution_count": 25,
     "metadata": {},
     "output_type": "execute_result"
    }
   ],
   "source": [
    "data_postal.shape, customers['postal_code'].nunique()"
   ]
  },
  {
   "cell_type": "code",
   "execution_count": 26,
   "id": "b3e0deb4",
   "metadata": {},
   "outputs": [
    {
     "data": {
      "image/png": "[encoded data removed]",
      "text/plain": [
       "<Figure size 576x360 with 1 Axes>"
      ]
     },
     "metadata": {},
     "output_type": "display_data"
    }
   ],
   "source": [
    "sns.set_style(\"darkgrid\")\n",
    "f, ax = plt.subplots(figsize = (8,5))\n",
    "ax = sns.histplot(customers, x = 'age', color = 'orange', bins = 50)\n",
    "ax.set_xlabel('distribution of customer by age')\n",
    "plt.show()"
   ]
  },
  {
   "cell_type": "code",
   "execution_count": 27,
   "id": "de5a2a08",
   "metadata": {
    "scrolled": true
   },
   "outputs": [
    {
     "data": {
      "image/png": "[encoded data removed]",
      "text/plain": [
       "<Figure size 576x360 with 1 Axes>"
      ]
     },
     "metadata": {},
     "output_type": "display_data"
    }
   ],
   "source": [
    "f, ax = plt.subplots(figsize = (8,5))\n",
    "ax = sns.histplot(customers, x = 'club_member_status', color = 'orange')\n",
    "ax.set_xlabel('Club member status')\n",
    "plt.show()"
   ]
  },
  {
   "cell_type": "code",
   "execution_count": 28,
   "id": "7c1ddf03",
   "metadata": {
    "scrolled": true
   },
   "outputs": [
    {
     "data": {
      "text/plain": [
       "array(['NONE', 'Regularly', nan, 'Monthly', 'None'], dtype=object)"
      ]
     },
     "execution_count": 28,
     "metadata": {},
     "output_type": "execute_result"
    }
   ],
   "source": [
    "customers['fashion_news_frequency'].unique()"
   ]
  },
  {
   "cell_type": "code",
   "execution_count": 29,
   "id": "1e049089",
   "metadata": {
    "scrolled": true
   },
   "outputs": [
    {
     "data": {
      "text/plain": [
       "(array([nan,  1.]),\n",
       " array([nan,  1.]),\n",
       " array(['ACTIVE', nan, 'PRE-CREATE', 'LEFT CLUB'], dtype=object))"
      ]
     },
     "execution_count": 29,
     "metadata": {},
     "output_type": "execute_result"
    }
   ],
   "source": [
    "customers['FN'].unique(), customers['Active'].unique(), customers['club_member_status'].unique()"
   ]
  },
  {
   "cell_type": "markdown",
   "id": "f6784723",
   "metadata": {},
   "source": [
    "For the features 'fashion_news_frequency' there are three kinds of values for NaN, we need to unite them."
   ]
  },
  {
   "cell_type": "code",
   "execution_count": 30,
   "id": "1111df9d",
   "metadata": {},
   "outputs": [
    {
     "data": {
      "text/plain": [
       "fashion_news_frequency\n",
       "Monthly         842\n",
       "NONE         877711\n",
       "None              2\n",
       "Regularly    477416\n",
       "Name: customer_id, dtype: int64"
      ]
     },
     "execution_count": 30,
     "metadata": {},
     "output_type": "execute_result"
    }
   ],
   "source": [
    "customers.groupby('fashion_news_frequency').count()['customer_id']"
   ]
  },
  {
   "cell_type": "code",
   "execution_count": 31,
   "id": "6639f5cb",
   "metadata": {},
   "outputs": [],
   "source": [
    "customers.loc[~customers['fashion_news_frequency'].isin(['Regularly', 'Monthly']), 'fashion_news_frequency'] = 'None'"
   ]
  },
  {
   "cell_type": "code",
   "execution_count": 32,
   "id": "1683ba25",
   "metadata": {
    "scrolled": true
   },
   "outputs": [
    {
     "data": {
      "text/plain": [
       "fashion_news_frequency\n",
       "Monthly         842\n",
       "None         893722\n",
       "Regularly    477416\n",
       "Name: customer_id, dtype: int64"
      ]
     },
     "execution_count": 32,
     "metadata": {},
     "output_type": "execute_result"
    }
   ],
   "source": [
    "customers.groupby('fashion_news_frequency').count()['customer_id']"
   ]
  },
  {
   "cell_type": "code",
   "execution_count": 33,
   "id": "ed4fc0d3",
   "metadata": {},
   "outputs": [],
   "source": [
    "pie_data = customers[['customer_id', 'fashion_news_frequency']].groupby('fashion_news_frequency').count()"
   ]
  },
  {
   "cell_type": "code",
   "execution_count": 34,
   "id": "1d14685e",
   "metadata": {},
   "outputs": [
    {
     "data": {
      "image/png": "[encoded data removed]",
      "text/plain": [
       "<Figure size 720x360 with 1 Axes>"
      ]
     },
     "metadata": {},
     "output_type": "display_data"
    }
   ],
   "source": [
    "sns.set_style(\"darkgrid\")\n",
    "f, ax = plt.subplots(figsize = (10,5))\n",
    "ax.pie(pie_data.customer_id, labels = pie_data.index, colors =  sns.color_palette('pastel'))\n",
    "ax.set_facecolor('lightgrey')\n",
    "ax.set_xlabel('distribution of fashion_news_frequency')\n",
    "plt.show()"
   ]
  },
  {
   "cell_type": "markdown",
   "id": "42807a30",
   "metadata": {},
   "source": [
    "### 3. Transactions"
   ]
  },
  {
   "cell_type": "code",
   "execution_count": 35,
   "id": "32df9897",
   "metadata": {},
   "outputs": [
    {
     "data": {
      "text/html": [
       "<div>\n",
       "<style scoped>\n",
       "    .dataframe tbody tr th:only-of-type {\n",
       "        vertical-align: middle;\n",
       "    }\n",
       "\n",
       "    .dataframe tbody tr th {\n",
       "        vertical-align: top;\n",
       "    }\n",
       "\n",
       "    .dataframe thead th {\n",
       "        text-align: right;\n",
       "    }\n",
       "</style>\n",
       "<table border=\"1\" class=\"dataframe\">\n",
       "  <thead>\n",
       "    <tr style=\"text-align: right;\">\n",
       "      <th></th>\n",
       "      <th>t_dat</th>\n",
       "      <th>customer_id</th>\n",
       "      <th>article_id</th>\n",
       "      <th>price</th>\n",
       "      <th>sales_channel_id</th>\n",
       "    </tr>\n",
       "  </thead>\n",
       "  <tbody>\n",
       "    <tr>\n",
       "      <th>0</th>\n",
       "      <td>2018-09-20</td>\n",
       "      <td>000058a12d5b43e67d225668fa1f8d618c13dc232df0ca...</td>\n",
       "      <td>663713001</td>\n",
       "      <td>0.050831</td>\n",
       "      <td>2</td>\n",
       "    </tr>\n",
       "    <tr>\n",
       "      <th>1</th>\n",
       "      <td>2018-09-20</td>\n",
       "      <td>000058a12d5b43e67d225668fa1f8d618c13dc232df0ca...</td>\n",
       "      <td>541518023</td>\n",
       "      <td>0.030492</td>\n",
       "      <td>2</td>\n",
       "    </tr>\n",
       "    <tr>\n",
       "      <th>2</th>\n",
       "      <td>2018-09-20</td>\n",
       "      <td>00007d2de826758b65a93dd24ce629ed66842531df6699...</td>\n",
       "      <td>505221004</td>\n",
       "      <td>0.015237</td>\n",
       "      <td>2</td>\n",
       "    </tr>\n",
       "    <tr>\n",
       "      <th>3</th>\n",
       "      <td>2018-09-20</td>\n",
       "      <td>00007d2de826758b65a93dd24ce629ed66842531df6699...</td>\n",
       "      <td>685687003</td>\n",
       "      <td>0.016932</td>\n",
       "      <td>2</td>\n",
       "    </tr>\n",
       "    <tr>\n",
       "      <th>4</th>\n",
       "      <td>2018-09-20</td>\n",
       "      <td>00007d2de826758b65a93dd24ce629ed66842531df6699...</td>\n",
       "      <td>685687004</td>\n",
       "      <td>0.016932</td>\n",
       "      <td>2</td>\n",
       "    </tr>\n",
       "  </tbody>\n",
       "</table>\n",
       "</div>"
      ],
      "text/plain": [
       "        t_dat                                        customer_id  article_id  \\\n",
       "0  2018-09-20  000058a12d5b43e67d225668fa1f8d618c13dc232df0ca...   663713001   \n",
       "1  2018-09-20  000058a12d5b43e67d225668fa1f8d618c13dc232df0ca...   541518023   \n",
       "2  2018-09-20  00007d2de826758b65a93dd24ce629ed66842531df6699...   505221004   \n",
       "3  2018-09-20  00007d2de826758b65a93dd24ce629ed66842531df6699...   685687003   \n",
       "4  2018-09-20  00007d2de826758b65a93dd24ce629ed66842531df6699...   685687004   \n",
       "\n",
       "      price  sales_channel_id  \n",
       "0  0.050831                 2  \n",
       "1  0.030492                 2  \n",
       "2  0.015237                 2  \n",
       "3  0.016932                 2  \n",
       "4  0.016932                 2  "
      ]
     },
     "execution_count": 35,
     "metadata": {},
     "output_type": "execute_result"
    }
   ],
   "source": [
    "transactions.head()"
   ]
  },
  {
   "cell_type": "code",
   "execution_count": 36,
   "id": "b9349c51",
   "metadata": {
    "scrolled": false
   },
   "outputs": [
    {
     "data": {
      "text/plain": [
       "count   31788324.0000\n",
       "mean           0.0278\n",
       "std            0.0192\n",
       "min            0.0000\n",
       "25%            0.0158\n",
       "50%            0.0254\n",
       "75%            0.0339\n",
       "max            0.5915\n",
       "Name: price, dtype: float64"
      ]
     },
     "execution_count": 36,
     "metadata": {},
     "output_type": "execute_result"
    }
   ],
   "source": [
    "pd.set_option('display.float_format', '{:.4f}'.format)\n",
    "\n",
    "transactions.describe()['price']"
   ]
  },
  {
   "cell_type": "code",
   "execution_count": 37,
   "id": "080d1cff",
   "metadata": {},
   "outputs": [
    {
     "data": {
      "text/html": [
       "<div>\n",
       "<style scoped>\n",
       "    .dataframe tbody tr th:only-of-type {\n",
       "        vertical-align: middle;\n",
       "    }\n",
       "\n",
       "    .dataframe tbody tr th {\n",
       "        vertical-align: top;\n",
       "    }\n",
       "\n",
       "    .dataframe thead th {\n",
       "        text-align: right;\n",
       "    }\n",
       "</style>\n",
       "<table border=\"1\" class=\"dataframe\">\n",
       "  <thead>\n",
       "    <tr style=\"text-align: right;\">\n",
       "      <th></th>\n",
       "      <th>t_dat</th>\n",
       "      <th>article_id</th>\n",
       "      <th>price</th>\n",
       "      <th>sales_channel_id</th>\n",
       "    </tr>\n",
       "    <tr>\n",
       "      <th>customer_id</th>\n",
       "      <th></th>\n",
       "      <th></th>\n",
       "      <th></th>\n",
       "      <th></th>\n",
       "    </tr>\n",
       "  </thead>\n",
       "  <tbody>\n",
       "    <tr>\n",
       "      <th>00000dbacae5abe5e23885899a1fa44253a17956c6d1c3d25f88aa139fdfc657</th>\n",
       "      <td>21</td>\n",
       "      <td>21</td>\n",
       "      <td>21</td>\n",
       "      <td>21</td>\n",
       "    </tr>\n",
       "    <tr>\n",
       "      <th>0000423b00ade91418cceaf3b26c6af3dd342b51fd051eec9c12fb36984420fa</th>\n",
       "      <td>86</td>\n",
       "      <td>86</td>\n",
       "      <td>86</td>\n",
       "      <td>86</td>\n",
       "    </tr>\n",
       "    <tr>\n",
       "      <th>000058a12d5b43e67d225668fa1f8d618c13dc232df0cad8ffe7ad4a1091e318</th>\n",
       "      <td>18</td>\n",
       "      <td>18</td>\n",
       "      <td>18</td>\n",
       "      <td>18</td>\n",
       "    </tr>\n",
       "    <tr>\n",
       "      <th>00005ca1c9ed5f5146b52ac8639a40ca9d57aeff4d1bd2c5feb1ca5dff07c43e</th>\n",
       "      <td>2</td>\n",
       "      <td>2</td>\n",
       "      <td>2</td>\n",
       "      <td>2</td>\n",
       "    </tr>\n",
       "    <tr>\n",
       "      <th>00006413d8573cd20ed7128e53b7b13819fe5cfc2d801fe7fc0f26dd8d65a85a</th>\n",
       "      <td>13</td>\n",
       "      <td>13</td>\n",
       "      <td>13</td>\n",
       "      <td>13</td>\n",
       "    </tr>\n",
       "  </tbody>\n",
       "</table>\n",
       "</div>"
      ],
      "text/plain": [
       "                                                    t_dat  article_id  price  \\\n",
       "customer_id                                                                    \n",
       "00000dbacae5abe5e23885899a1fa44253a17956c6d1c3d...     21          21     21   \n",
       "0000423b00ade91418cceaf3b26c6af3dd342b51fd051ee...     86          86     86   \n",
       "000058a12d5b43e67d225668fa1f8d618c13dc232df0cad...     18          18     18   \n",
       "00005ca1c9ed5f5146b52ac8639a40ca9d57aeff4d1bd2c...      2           2      2   \n",
       "00006413d8573cd20ed7128e53b7b13819fe5cfc2d801fe...     13          13     13   \n",
       "\n",
       "                                                    sales_channel_id  \n",
       "customer_id                                                           \n",
       "00000dbacae5abe5e23885899a1fa44253a17956c6d1c3d...                21  \n",
       "0000423b00ade91418cceaf3b26c6af3dd342b51fd051ee...                86  \n",
       "000058a12d5b43e67d225668fa1f8d618c13dc232df0cad...                18  \n",
       "00005ca1c9ed5f5146b52ac8639a40ca9d57aeff4d1bd2c...                 2  \n",
       "00006413d8573cd20ed7128e53b7b13819fe5cfc2d801fe...                13  "
      ]
     },
     "execution_count": 37,
     "metadata": {},
     "output_type": "execute_result"
    }
   ],
   "source": [
    "## top 10 customers\n",
    "transactions_bycus = transactions.groupby('customer_id').count() \n",
    "transactions_bycus.head()"
   ]
  },
  {
   "cell_type": "code",
   "execution_count": 38,
   "id": "ba952978",
   "metadata": {},
   "outputs": [
    {
     "data": {
      "text/plain": [
       "customer_id\n",
       "be1981ab818cf4ef6765b2ecaea7a2cbf14ccd6e8a7ee985513d9e8e53c6d91b    1895\n",
       "b4db5e5259234574edfff958e170fe3a5e13b6f146752ca066abca3c156acc71    1441\n",
       "49beaacac0c7801c2ce2d189efe525fe80b5d37e46ed05b50a4cd88e34d0748f    1364\n",
       "a65f77281a528bf5c1e9f270141d601d116e1df33bf9df512f495ee06647a9cc    1361\n",
       "cd04ec2726dd58a8c753e0d6423e57716fd9ebcf2f14ed6012e7e5bea016b4d6    1237\n",
       "55d15396193dfd45836af3a6269a079efea339e875eff42cc0c228b002548a9d    1208\n",
       "c140410d72a41ee5e2e3ba3d7f5a860f337f1b5e41c27cf9bda5517c8774f8fa    1170\n",
       "8df45859ccd71ef1e48e2ee9d1c65d5728c31c46ae957d659fa4e5c3af6cc076    1169\n",
       "03d0011487606c37c1b1ed147fc72f285a50c05f00b9712e0fc3da400c864296    1157\n",
       "6cc121e5cc202d2bf344ffe795002bdbf87178054bcda2e57161f0ef810a4b55    1143\n",
       "Name: t_dat, dtype: int64"
      ]
     },
     "execution_count": 38,
     "metadata": {},
     "output_type": "execute_result"
    }
   ],
   "source": [
    "transactions_bycus.sort_values(by = 't_dat', ascending = False)['t_dat'][:10]"
   ]
  },
  {
   "cell_type": "markdown",
   "id": "e516ca31",
   "metadata": {},
   "source": [
    "We detect outliers in price."
   ]
  },
  {
   "cell_type": "code",
   "execution_count": 39,
   "id": "bc1d105c",
   "metadata": {},
   "outputs": [
    {
     "data": {
      "image/png": "[encoded data removed]",
      "text/plain": [
       "<Figure size 720x360 with 1 Axes>"
      ]
     },
     "metadata": {},
     "output_type": "display_data"
    }
   ],
   "source": [
    "sns.set_style(\"darkgrid\")\n",
    "f, ax = plt.subplots(figsize = (10,5))\n",
    "ax = sns.boxplot(data = transactions, x = 'price',  color = 'orange')\n",
    "ax.set_xlabel('distribution of price')\n",
    "plt.show()"
   ]
  },
  {
   "cell_type": "markdown",
   "id": "bae56122",
   "metadata": {},
   "source": [
    "Now we compare prices inside groups is more accurate, because accessories and trousers prices may vary largerly. We choose some columns from articles and merge it to transactions."
   ]
  },
  {
   "cell_type": "code",
   "execution_count": 40,
   "id": "7767f8b7",
   "metadata": {
    "scrolled": false
   },
   "outputs": [
    {
     "data": {
      "image/png": "[encoded data removed]",
      "text/plain": [
       "<Figure size 576x360 with 1 Axes>"
      ]
     },
     "metadata": {},
     "output_type": "display_data"
    }
   ],
   "source": [
    "sns.set_style(\"darkgrid\")\n",
    "f, ax = plt.subplots(figsize = (8,5))\n",
    "ax = sns.histplot(transactions, x = 'price', color = 'orange', bins = 30)\n",
    "ax.set_xlabel('distribution of price')\n",
    "plt.show()"
   ]
  },
  {
   "cell_type": "code",
   "execution_count": 41,
   "id": "2f470cdb",
   "metadata": {},
   "outputs": [],
   "source": [
    "articles_for_merge = articles[['article_id', 'prod_name', 'product_type_name', 'product_group_name', 'index_name', 'garment_group_name']]\n",
    "\n",
    "merge_df = transactions[['customer_id', 't_dat', 'article_id', 'price']].merge(articles_for_merge, on = 'article_id', how = 'left')"
   ]
  },
  {
   "cell_type": "code",
   "execution_count": 42,
   "id": "5d0ef2a9",
   "metadata": {
    "scrolled": true
   },
   "outputs": [
    {
     "data": {
      "text/plain": [
       "(31788324, 9)"
      ]
     },
     "execution_count": 42,
     "metadata": {},
     "output_type": "execute_result"
    }
   ],
   "source": [
    "merge_df.shape"
   ]
  },
  {
   "cell_type": "code",
   "execution_count": 43,
   "id": "ce62d4bf",
   "metadata": {},
   "outputs": [
    {
     "data": {
      "text/plain": [
       "(31788324, 5)"
      ]
     },
     "execution_count": 43,
     "metadata": {},
     "output_type": "execute_result"
    }
   ],
   "source": [
    "transactions.shape\n"
   ]
  },
  {
   "cell_type": "code",
   "execution_count": 44,
   "id": "593f0caf",
   "metadata": {},
   "outputs": [
    {
     "ename": "MemoryError",
     "evalue": "",
     "output_type": "error",
     "traceback": [
      "\u001b[1;31m---------------------------------------------------------------------------\u001b[0m",
      "\u001b[1;31mMemoryError\u001b[0m                               Traceback (most recent call last)",
      "Input \u001b[1;32mIn [44]\u001b[0m, in \u001b[0;36m<cell line: 3>\u001b[1;34m()\u001b[0m\n\u001b[0;32m      1\u001b[0m sns\u001b[38;5;241m.\u001b[39mset_style(\u001b[38;5;124m\"\u001b[39m\u001b[38;5;124mdarkgrid\u001b[39m\u001b[38;5;124m\"\u001b[39m)\n\u001b[0;32m      2\u001b[0m f, ax \u001b[38;5;241m=\u001b[39m plt\u001b[38;5;241m.\u001b[39msubplots(figsize\u001b[38;5;241m=\u001b[39m(\u001b[38;5;241m25\u001b[39m,\u001b[38;5;241m18\u001b[39m))\n\u001b[1;32m----> 3\u001b[0m ax \u001b[38;5;241m=\u001b[39m \u001b[43msns\u001b[49m\u001b[38;5;241;43m.\u001b[39;49m\u001b[43mboxplot\u001b[49m\u001b[43m(\u001b[49m\u001b[43mdata\u001b[49m\u001b[38;5;241;43m=\u001b[39;49m\u001b[43mmerge_df\u001b[49m\u001b[43m,\u001b[49m\u001b[43m \u001b[49m\u001b[43mx\u001b[49m\u001b[38;5;241;43m=\u001b[39;49m\u001b[38;5;124;43m'\u001b[39;49m\u001b[38;5;124;43mprice\u001b[39;49m\u001b[38;5;124;43m'\u001b[39;49m\u001b[43m,\u001b[49m\u001b[43m \u001b[49m\u001b[43my\u001b[49m\u001b[38;5;241;43m=\u001b[39;49m\u001b[38;5;124;43m'\u001b[39;49m\u001b[38;5;124;43mproduct_group_name\u001b[39;49m\u001b[38;5;124;43m'\u001b[39;49m\u001b[43m)\u001b[49m\n\u001b[0;32m      4\u001b[0m ax\u001b[38;5;241m.\u001b[39mset_xlabel(\u001b[38;5;124m'\u001b[39m\u001b[38;5;124mPrice outliers\u001b[39m\u001b[38;5;124m'\u001b[39m, fontsize\u001b[38;5;241m=\u001b[39m\u001b[38;5;241m22\u001b[39m)\n\u001b[0;32m      5\u001b[0m ax\u001b[38;5;241m.\u001b[39mset_ylabel(\u001b[38;5;124m'\u001b[39m\u001b[38;5;124mIndex names\u001b[39m\u001b[38;5;124m'\u001b[39m, fontsize\u001b[38;5;241m=\u001b[39m\u001b[38;5;241m22\u001b[39m)\n",
      "File \u001b[1;32m~\\Miniconda3\\envs\\fastbook2\\lib\\site-packages\\seaborn\\_decorators.py:46\u001b[0m, in \u001b[0;36m_deprecate_positional_args.<locals>.inner_f\u001b[1;34m(*args, **kwargs)\u001b[0m\n\u001b[0;32m     36\u001b[0m     warnings\u001b[38;5;241m.\u001b[39mwarn(\n\u001b[0;32m     37\u001b[0m         \u001b[38;5;124m\"\u001b[39m\u001b[38;5;124mPass the following variable\u001b[39m\u001b[38;5;132;01m{}\u001b[39;00m\u001b[38;5;124m as \u001b[39m\u001b[38;5;132;01m{}\u001b[39;00m\u001b[38;5;124mkeyword arg\u001b[39m\u001b[38;5;132;01m{}\u001b[39;00m\u001b[38;5;124m: \u001b[39m\u001b[38;5;132;01m{}\u001b[39;00m\u001b[38;5;124m. \u001b[39m\u001b[38;5;124m\"\u001b[39m\n\u001b[0;32m     38\u001b[0m         \u001b[38;5;124m\"\u001b[39m\u001b[38;5;124mFrom version 0.12, the only valid positional argument \u001b[39m\u001b[38;5;124m\"\u001b[39m\n\u001b[1;32m   (...)\u001b[0m\n\u001b[0;32m     43\u001b[0m         \u001b[38;5;167;01mFutureWarning\u001b[39;00m\n\u001b[0;32m     44\u001b[0m     )\n\u001b[0;32m     45\u001b[0m kwargs\u001b[38;5;241m.\u001b[39mupdate({k: arg \u001b[38;5;28;01mfor\u001b[39;00m k, arg \u001b[38;5;129;01min\u001b[39;00m \u001b[38;5;28mzip\u001b[39m(sig\u001b[38;5;241m.\u001b[39mparameters, args)})\n\u001b[1;32m---> 46\u001b[0m \u001b[38;5;28;01mreturn\u001b[39;00m f(\u001b[38;5;241m*\u001b[39m\u001b[38;5;241m*\u001b[39mkwargs)\n",
      "File \u001b[1;32m~\\Miniconda3\\envs\\fastbook2\\lib\\site-packages\\seaborn\\categorical.py:2243\u001b[0m, in \u001b[0;36mboxplot\u001b[1;34m(x, y, hue, data, order, hue_order, orient, color, palette, saturation, width, dodge, fliersize, linewidth, whis, ax, **kwargs)\u001b[0m\n\u001b[0;32m   2231\u001b[0m \u001b[38;5;129m@_deprecate_positional_args\u001b[39m\n\u001b[0;32m   2232\u001b[0m \u001b[38;5;28;01mdef\u001b[39;00m \u001b[38;5;21mboxplot\u001b[39m(\n\u001b[0;32m   2233\u001b[0m     \u001b[38;5;241m*\u001b[39m,\n\u001b[1;32m   (...)\u001b[0m\n\u001b[0;32m   2240\u001b[0m     \u001b[38;5;241m*\u001b[39m\u001b[38;5;241m*\u001b[39mkwargs\n\u001b[0;32m   2241\u001b[0m ):\n\u001b[1;32m-> 2243\u001b[0m     plotter \u001b[38;5;241m=\u001b[39m \u001b[43m_BoxPlotter\u001b[49m\u001b[43m(\u001b[49m\u001b[43mx\u001b[49m\u001b[43m,\u001b[49m\u001b[43m \u001b[49m\u001b[43my\u001b[49m\u001b[43m,\u001b[49m\u001b[43m \u001b[49m\u001b[43mhue\u001b[49m\u001b[43m,\u001b[49m\u001b[43m \u001b[49m\u001b[43mdata\u001b[49m\u001b[43m,\u001b[49m\u001b[43m \u001b[49m\u001b[43morder\u001b[49m\u001b[43m,\u001b[49m\u001b[43m \u001b[49m\u001b[43mhue_order\u001b[49m\u001b[43m,\u001b[49m\n\u001b[0;32m   2244\u001b[0m \u001b[43m                          \u001b[49m\u001b[43morient\u001b[49m\u001b[43m,\u001b[49m\u001b[43m \u001b[49m\u001b[43mcolor\u001b[49m\u001b[43m,\u001b[49m\u001b[43m \u001b[49m\u001b[43mpalette\u001b[49m\u001b[43m,\u001b[49m\u001b[43m \u001b[49m\u001b[43msaturation\u001b[49m\u001b[43m,\u001b[49m\n\u001b[0;32m   2245\u001b[0m \u001b[43m                          \u001b[49m\u001b[43mwidth\u001b[49m\u001b[43m,\u001b[49m\u001b[43m \u001b[49m\u001b[43mdodge\u001b[49m\u001b[43m,\u001b[49m\u001b[43m \u001b[49m\u001b[43mfliersize\u001b[49m\u001b[43m,\u001b[49m\u001b[43m \u001b[49m\u001b[43mlinewidth\u001b[49m\u001b[43m)\u001b[49m\n\u001b[0;32m   2247\u001b[0m     \u001b[38;5;28;01mif\u001b[39;00m ax \u001b[38;5;129;01mis\u001b[39;00m \u001b[38;5;28;01mNone\u001b[39;00m:\n\u001b[0;32m   2248\u001b[0m         ax \u001b[38;5;241m=\u001b[39m plt\u001b[38;5;241m.\u001b[39mgca()\n",
      "File \u001b[1;32m~\\Miniconda3\\envs\\fastbook2\\lib\\site-packages\\seaborn\\categorical.py:406\u001b[0m, in \u001b[0;36m_BoxPlotter.__init__\u001b[1;34m(self, x, y, hue, data, order, hue_order, orient, color, palette, saturation, width, dodge, fliersize, linewidth)\u001b[0m\n\u001b[0;32m    402\u001b[0m \u001b[38;5;28;01mdef\u001b[39;00m \u001b[38;5;21m__init__\u001b[39m(\u001b[38;5;28mself\u001b[39m, x, y, hue, data, order, hue_order,\n\u001b[0;32m    403\u001b[0m              orient, color, palette, saturation,\n\u001b[0;32m    404\u001b[0m              width, dodge, fliersize, linewidth):\n\u001b[1;32m--> 406\u001b[0m     \u001b[38;5;28;43mself\u001b[39;49m\u001b[38;5;241;43m.\u001b[39;49m\u001b[43mestablish_variables\u001b[49m\u001b[43m(\u001b[49m\u001b[43mx\u001b[49m\u001b[43m,\u001b[49m\u001b[43m \u001b[49m\u001b[43my\u001b[49m\u001b[43m,\u001b[49m\u001b[43m \u001b[49m\u001b[43mhue\u001b[49m\u001b[43m,\u001b[49m\u001b[43m \u001b[49m\u001b[43mdata\u001b[49m\u001b[43m,\u001b[49m\u001b[43m \u001b[49m\u001b[43morient\u001b[49m\u001b[43m,\u001b[49m\u001b[43m \u001b[49m\u001b[43morder\u001b[49m\u001b[43m,\u001b[49m\u001b[43m \u001b[49m\u001b[43mhue_order\u001b[49m\u001b[43m)\u001b[49m\n\u001b[0;32m    407\u001b[0m     \u001b[38;5;28mself\u001b[39m\u001b[38;5;241m.\u001b[39mestablish_colors(color, palette, saturation)\n\u001b[0;32m    409\u001b[0m     \u001b[38;5;28mself\u001b[39m\u001b[38;5;241m.\u001b[39mdodge \u001b[38;5;241m=\u001b[39m dodge\n",
      "File \u001b[1;32m~\\Miniconda3\\envs\\fastbook2\\lib\\site-packages\\seaborn\\categorical.py:206\u001b[0m, in \u001b[0;36m_CategoricalPlotter.establish_variables\u001b[1;34m(self, x, y, hue, data, orient, order, hue_order, units)\u001b[0m\n\u001b[0;32m    203\u001b[0m group_names \u001b[38;5;241m=\u001b[39m categorical_order(groups, order)\n\u001b[0;32m    205\u001b[0m \u001b[38;5;66;03m# Group the numeric data\u001b[39;00m\n\u001b[1;32m--> 206\u001b[0m plot_data, value_label \u001b[38;5;241m=\u001b[39m \u001b[38;5;28;43mself\u001b[39;49m\u001b[38;5;241;43m.\u001b[39;49m\u001b[43m_group_longform\u001b[49m\u001b[43m(\u001b[49m\u001b[43mvals\u001b[49m\u001b[43m,\u001b[49m\u001b[43m \u001b[49m\u001b[43mgroups\u001b[49m\u001b[43m,\u001b[49m\n\u001b[0;32m    207\u001b[0m \u001b[43m                                              \u001b[49m\u001b[43mgroup_names\u001b[49m\u001b[43m)\u001b[49m\n\u001b[0;32m    209\u001b[0m \u001b[38;5;66;03m# Now handle the hue levels for nested ordering\u001b[39;00m\n\u001b[0;32m    210\u001b[0m \u001b[38;5;28;01mif\u001b[39;00m hue \u001b[38;5;129;01mis\u001b[39;00m \u001b[38;5;28;01mNone\u001b[39;00m:\n",
      "File \u001b[1;32m~\\Miniconda3\\envs\\fastbook2\\lib\\site-packages\\seaborn\\categorical.py:253\u001b[0m, in \u001b[0;36m_CategoricalPlotter._group_longform\u001b[1;34m(self, vals, grouper, order)\u001b[0m\n\u001b[0;32m    250\u001b[0m     vals \u001b[38;5;241m=\u001b[39m pd\u001b[38;5;241m.\u001b[39mSeries(vals, index\u001b[38;5;241m=\u001b[39mindex)\n\u001b[0;32m    252\u001b[0m \u001b[38;5;66;03m# Group the val data\u001b[39;00m\n\u001b[1;32m--> 253\u001b[0m grouped_vals \u001b[38;5;241m=\u001b[39m \u001b[43mvals\u001b[49m\u001b[38;5;241;43m.\u001b[39;49m\u001b[43mgroupby\u001b[49m\u001b[43m(\u001b[49m\u001b[43mgrouper\u001b[49m\u001b[43m)\u001b[49m\n\u001b[0;32m    254\u001b[0m out_data \u001b[38;5;241m=\u001b[39m []\n\u001b[0;32m    255\u001b[0m \u001b[38;5;28;01mfor\u001b[39;00m g \u001b[38;5;129;01min\u001b[39;00m order:\n",
      "File \u001b[1;32m~\\Miniconda3\\envs\\fastbook2\\lib\\site-packages\\pandas\\core\\series.py:1922\u001b[0m, in \u001b[0;36mSeries.groupby\u001b[1;34m(self, by, axis, level, as_index, sort, group_keys, squeeze, observed, dropna)\u001b[0m\n\u001b[0;32m   1918\u001b[0m axis \u001b[38;5;241m=\u001b[39m \u001b[38;5;28mself\u001b[39m\u001b[38;5;241m.\u001b[39m_get_axis_number(axis)\n\u001b[0;32m   1920\u001b[0m \u001b[38;5;66;03m# error: Argument \"squeeze\" to \"SeriesGroupBy\" has incompatible type\u001b[39;00m\n\u001b[0;32m   1921\u001b[0m \u001b[38;5;66;03m# \"Union[bool, NoDefault]\"; expected \"bool\"\u001b[39;00m\n\u001b[1;32m-> 1922\u001b[0m \u001b[38;5;28;01mreturn\u001b[39;00m \u001b[43mSeriesGroupBy\u001b[49m\u001b[43m(\u001b[49m\n\u001b[0;32m   1923\u001b[0m \u001b[43m    \u001b[49m\u001b[43mobj\u001b[49m\u001b[38;5;241;43m=\u001b[39;49m\u001b[38;5;28;43mself\u001b[39;49m\u001b[43m,\u001b[49m\n\u001b[0;32m   1924\u001b[0m \u001b[43m    \u001b[49m\u001b[43mkeys\u001b[49m\u001b[38;5;241;43m=\u001b[39;49m\u001b[43mby\u001b[49m\u001b[43m,\u001b[49m\n\u001b[0;32m   1925\u001b[0m \u001b[43m    \u001b[49m\u001b[43maxis\u001b[49m\u001b[38;5;241;43m=\u001b[39;49m\u001b[43maxis\u001b[49m\u001b[43m,\u001b[49m\n\u001b[0;32m   1926\u001b[0m \u001b[43m    \u001b[49m\u001b[43mlevel\u001b[49m\u001b[38;5;241;43m=\u001b[39;49m\u001b[43mlevel\u001b[49m\u001b[43m,\u001b[49m\n\u001b[0;32m   1927\u001b[0m \u001b[43m    \u001b[49m\u001b[43mas_index\u001b[49m\u001b[38;5;241;43m=\u001b[39;49m\u001b[43mas_index\u001b[49m\u001b[43m,\u001b[49m\n\u001b[0;32m   1928\u001b[0m \u001b[43m    \u001b[49m\u001b[43msort\u001b[49m\u001b[38;5;241;43m=\u001b[39;49m\u001b[43msort\u001b[49m\u001b[43m,\u001b[49m\n\u001b[0;32m   1929\u001b[0m \u001b[43m    \u001b[49m\u001b[43mgroup_keys\u001b[49m\u001b[38;5;241;43m=\u001b[39;49m\u001b[43mgroup_keys\u001b[49m\u001b[43m,\u001b[49m\n\u001b[0;32m   1930\u001b[0m \u001b[43m    \u001b[49m\u001b[43msqueeze\u001b[49m\u001b[38;5;241;43m=\u001b[39;49m\u001b[43msqueeze\u001b[49m\u001b[43m,\u001b[49m\u001b[43m  \u001b[49m\u001b[38;5;66;43;03m# type: ignore[arg-type]\u001b[39;49;00m\n\u001b[0;32m   1931\u001b[0m \u001b[43m    \u001b[49m\u001b[43mobserved\u001b[49m\u001b[38;5;241;43m=\u001b[39;49m\u001b[43mobserved\u001b[49m\u001b[43m,\u001b[49m\n\u001b[0;32m   1932\u001b[0m \u001b[43m    \u001b[49m\u001b[43mdropna\u001b[49m\u001b[38;5;241;43m=\u001b[39;49m\u001b[43mdropna\u001b[49m\u001b[43m,\u001b[49m\n\u001b[0;32m   1933\u001b[0m \u001b[43m\u001b[49m\u001b[43m)\u001b[49m\n",
      "File \u001b[1;32m~\\Miniconda3\\envs\\fastbook2\\lib\\site-packages\\pandas\\core\\groupby\\groupby.py:882\u001b[0m, in \u001b[0;36mGroupBy.__init__\u001b[1;34m(self, obj, keys, axis, level, grouper, exclusions, selection, as_index, sort, group_keys, squeeze, observed, mutated, dropna)\u001b[0m\n\u001b[0;32m    879\u001b[0m \u001b[38;5;28;01mif\u001b[39;00m grouper \u001b[38;5;129;01mis\u001b[39;00m \u001b[38;5;28;01mNone\u001b[39;00m:\n\u001b[0;32m    880\u001b[0m     \u001b[38;5;28;01mfrom\u001b[39;00m \u001b[38;5;21;01mpandas\u001b[39;00m\u001b[38;5;21;01m.\u001b[39;00m\u001b[38;5;21;01mcore\u001b[39;00m\u001b[38;5;21;01m.\u001b[39;00m\u001b[38;5;21;01mgroupby\u001b[39;00m\u001b[38;5;21;01m.\u001b[39;00m\u001b[38;5;21;01mgrouper\u001b[39;00m \u001b[38;5;28;01mimport\u001b[39;00m get_grouper\n\u001b[1;32m--> 882\u001b[0m     grouper, exclusions, obj \u001b[38;5;241m=\u001b[39m \u001b[43mget_grouper\u001b[49m\u001b[43m(\u001b[49m\n\u001b[0;32m    883\u001b[0m \u001b[43m        \u001b[49m\u001b[43mobj\u001b[49m\u001b[43m,\u001b[49m\n\u001b[0;32m    884\u001b[0m \u001b[43m        \u001b[49m\u001b[43mkeys\u001b[49m\u001b[43m,\u001b[49m\n\u001b[0;32m    885\u001b[0m \u001b[43m        \u001b[49m\u001b[43maxis\u001b[49m\u001b[38;5;241;43m=\u001b[39;49m\u001b[43maxis\u001b[49m\u001b[43m,\u001b[49m\n\u001b[0;32m    886\u001b[0m \u001b[43m        \u001b[49m\u001b[43mlevel\u001b[49m\u001b[38;5;241;43m=\u001b[39;49m\u001b[43mlevel\u001b[49m\u001b[43m,\u001b[49m\n\u001b[0;32m    887\u001b[0m \u001b[43m        \u001b[49m\u001b[43msort\u001b[49m\u001b[38;5;241;43m=\u001b[39;49m\u001b[43msort\u001b[49m\u001b[43m,\u001b[49m\n\u001b[0;32m    888\u001b[0m \u001b[43m        \u001b[49m\u001b[43mobserved\u001b[49m\u001b[38;5;241;43m=\u001b[39;49m\u001b[43mobserved\u001b[49m\u001b[43m,\u001b[49m\n\u001b[0;32m    889\u001b[0m \u001b[43m        \u001b[49m\u001b[43mmutated\u001b[49m\u001b[38;5;241;43m=\u001b[39;49m\u001b[38;5;28;43mself\u001b[39;49m\u001b[38;5;241;43m.\u001b[39;49m\u001b[43mmutated\u001b[49m\u001b[43m,\u001b[49m\n\u001b[0;32m    890\u001b[0m \u001b[43m        \u001b[49m\u001b[43mdropna\u001b[49m\u001b[38;5;241;43m=\u001b[39;49m\u001b[38;5;28;43mself\u001b[39;49m\u001b[38;5;241;43m.\u001b[39;49m\u001b[43mdropna\u001b[49m\u001b[43m,\u001b[49m\n\u001b[0;32m    891\u001b[0m \u001b[43m    \u001b[49m\u001b[43m)\u001b[49m\n\u001b[0;32m    893\u001b[0m \u001b[38;5;28mself\u001b[39m\u001b[38;5;241m.\u001b[39mobj \u001b[38;5;241m=\u001b[39m obj\n\u001b[0;32m    894\u001b[0m \u001b[38;5;28mself\u001b[39m\u001b[38;5;241m.\u001b[39maxis \u001b[38;5;241m=\u001b[39m obj\u001b[38;5;241m.\u001b[39m_get_axis_number(axis)\n",
      "File \u001b[1;32m~\\Miniconda3\\envs\\fastbook2\\lib\\site-packages\\pandas\\core\\groupby\\grouper.py:869\u001b[0m, in \u001b[0;36mget_grouper\u001b[1;34m(obj, key, axis, level, sort, observed, mutated, validate, dropna)\u001b[0m\n\u001b[0;32m    866\u001b[0m     in_axis \u001b[38;5;241m=\u001b[39m \u001b[38;5;28;01mTrue\u001b[39;00m\n\u001b[0;32m    867\u001b[0m     exclusions\u001b[38;5;241m.\u001b[39madd(gpr\u001b[38;5;241m.\u001b[39mname)\n\u001b[1;32m--> 869\u001b[0m \u001b[38;5;28;01melif\u001b[39;00m \u001b[43mis_in_axis\u001b[49m\u001b[43m(\u001b[49m\u001b[43mgpr\u001b[49m\u001b[43m)\u001b[49m:  \u001b[38;5;66;03m# df.groupby('name')\u001b[39;00m\n\u001b[0;32m    870\u001b[0m     \u001b[38;5;28;01mif\u001b[39;00m gpr \u001b[38;5;129;01min\u001b[39;00m obj:\n\u001b[0;32m    871\u001b[0m         \u001b[38;5;28;01mif\u001b[39;00m validate:\n",
      "File \u001b[1;32m~\\Miniconda3\\envs\\fastbook2\\lib\\site-packages\\pandas\\core\\groupby\\grouper.py:843\u001b[0m, in \u001b[0;36mget_grouper.<locals>.is_in_axis\u001b[1;34m(key)\u001b[0m\n\u001b[0;32m    841\u001b[0m items \u001b[38;5;241m=\u001b[39m obj\u001b[38;5;241m.\u001b[39maxes[\u001b[38;5;241m-\u001b[39m\u001b[38;5;241m1\u001b[39m]\n\u001b[0;32m    842\u001b[0m \u001b[38;5;28;01mtry\u001b[39;00m:\n\u001b[1;32m--> 843\u001b[0m     \u001b[43mitems\u001b[49m\u001b[38;5;241;43m.\u001b[39;49m\u001b[43mget_loc\u001b[49m\u001b[43m(\u001b[49m\u001b[43mkey\u001b[49m\u001b[43m)\u001b[49m\n\u001b[0;32m    844\u001b[0m \u001b[38;5;28;01mexcept\u001b[39;00m (\u001b[38;5;167;01mKeyError\u001b[39;00m, \u001b[38;5;167;01mTypeError\u001b[39;00m, InvalidIndexError):\n\u001b[0;32m    845\u001b[0m     \u001b[38;5;66;03m# TypeError shows up here if we pass e.g. Int64Index\u001b[39;00m\n\u001b[0;32m    846\u001b[0m     \u001b[38;5;28;01mreturn\u001b[39;00m \u001b[38;5;28;01mFalse\u001b[39;00m\n",
      "File \u001b[1;32m~\\Miniconda3\\envs\\fastbook2\\lib\\site-packages\\pandas\\core\\indexes\\base.py:3621\u001b[0m, in \u001b[0;36mIndex.get_loc\u001b[1;34m(self, key, method, tolerance)\u001b[0m\n\u001b[0;32m   3619\u001b[0m casted_key \u001b[38;5;241m=\u001b[39m \u001b[38;5;28mself\u001b[39m\u001b[38;5;241m.\u001b[39m_maybe_cast_indexer(key)\n\u001b[0;32m   3620\u001b[0m \u001b[38;5;28;01mtry\u001b[39;00m:\n\u001b[1;32m-> 3621\u001b[0m     \u001b[38;5;28;01mreturn\u001b[39;00m \u001b[38;5;28;43mself\u001b[39;49m\u001b[38;5;241;43m.\u001b[39;49m\u001b[43m_engine\u001b[49m\u001b[38;5;241;43m.\u001b[39;49m\u001b[43mget_loc\u001b[49m\u001b[43m(\u001b[49m\u001b[43mcasted_key\u001b[49m\u001b[43m)\u001b[49m\n\u001b[0;32m   3622\u001b[0m \u001b[38;5;28;01mexcept\u001b[39;00m \u001b[38;5;167;01mKeyError\u001b[39;00m \u001b[38;5;28;01mas\u001b[39;00m err:\n\u001b[0;32m   3623\u001b[0m     \u001b[38;5;28;01mraise\u001b[39;00m \u001b[38;5;167;01mKeyError\u001b[39;00m(key) \u001b[38;5;28;01mfrom\u001b[39;00m \u001b[38;5;21;01merr\u001b[39;00m\n",
      "File \u001b[1;32m~\\Miniconda3\\envs\\fastbook2\\lib\\site-packages\\pandas\\_libs\\index.pyx:136\u001b[0m, in \u001b[0;36mpandas._libs.index.IndexEngine.get_loc\u001b[1;34m()\u001b[0m\n",
      "File \u001b[1;32m~\\Miniconda3\\envs\\fastbook2\\lib\\site-packages\\pandas\\_libs\\index.pyx:142\u001b[0m, in \u001b[0;36mpandas._libs.index.IndexEngine.get_loc\u001b[1;34m()\u001b[0m\n",
      "File \u001b[1;32m~\\Miniconda3\\envs\\fastbook2\\lib\\site-packages\\pandas\\core\\series.py:1504\u001b[0m, in \u001b[0;36mSeries.__repr__\u001b[1;34m(self)\u001b[0m\n\u001b[0;32m   1500\u001b[0m \u001b[38;5;124;03m\"\"\"\u001b[39;00m\n\u001b[0;32m   1501\u001b[0m \u001b[38;5;124;03mReturn a string representation for a particular Series.\u001b[39;00m\n\u001b[0;32m   1502\u001b[0m \u001b[38;5;124;03m\"\"\"\u001b[39;00m\n\u001b[0;32m   1503\u001b[0m repr_params \u001b[38;5;241m=\u001b[39m fmt\u001b[38;5;241m.\u001b[39mget_series_repr_params()\n\u001b[1;32m-> 1504\u001b[0m \u001b[38;5;28;01mreturn\u001b[39;00m \u001b[38;5;28mself\u001b[39m\u001b[38;5;241m.\u001b[39mto_string(\u001b[38;5;241m*\u001b[39m\u001b[38;5;241m*\u001b[39mrepr_params)\n",
      "File \u001b[1;32m~\\Miniconda3\\envs\\fastbook2\\lib\\site-packages\\pandas\\core\\series.py:1565\u001b[0m, in \u001b[0;36mSeries.to_string\u001b[1;34m(self, buf, na_rep, float_format, header, index, length, dtype, name, max_rows, min_rows)\u001b[0m\n\u001b[0;32m   1519\u001b[0m \u001b[38;5;124;03m\"\"\"\u001b[39;00m\n\u001b[0;32m   1520\u001b[0m \u001b[38;5;124;03mRender a string representation of the Series.\u001b[39;00m\n\u001b[0;32m   1521\u001b[0m \n\u001b[1;32m   (...)\u001b[0m\n\u001b[0;32m   1551\u001b[0m \u001b[38;5;124;03m    String representation of Series if ``buf=None``, otherwise None.\u001b[39;00m\n\u001b[0;32m   1552\u001b[0m \u001b[38;5;124;03m\"\"\"\u001b[39;00m\n\u001b[0;32m   1553\u001b[0m formatter \u001b[38;5;241m=\u001b[39m fmt\u001b[38;5;241m.\u001b[39mSeriesFormatter(\n\u001b[0;32m   1554\u001b[0m     \u001b[38;5;28mself\u001b[39m,\n\u001b[0;32m   1555\u001b[0m     name\u001b[38;5;241m=\u001b[39mname,\n\u001b[1;32m   (...)\u001b[0m\n\u001b[0;32m   1563\u001b[0m     max_rows\u001b[38;5;241m=\u001b[39mmax_rows,\n\u001b[0;32m   1564\u001b[0m )\n\u001b[1;32m-> 1565\u001b[0m result \u001b[38;5;241m=\u001b[39m \u001b[43mformatter\u001b[49m\u001b[38;5;241;43m.\u001b[39;49m\u001b[43mto_string\u001b[49m\u001b[43m(\u001b[49m\u001b[43m)\u001b[49m\n\u001b[0;32m   1567\u001b[0m \u001b[38;5;66;03m# catch contract violations\u001b[39;00m\n\u001b[0;32m   1568\u001b[0m \u001b[38;5;28;01mif\u001b[39;00m \u001b[38;5;129;01mnot\u001b[39;00m \u001b[38;5;28misinstance\u001b[39m(result, \u001b[38;5;28mstr\u001b[39m):\n",
      "File \u001b[1;32m~\\Miniconda3\\envs\\fastbook2\\lib\\site-packages\\pandas\\io\\formats\\format.py:419\u001b[0m, in \u001b[0;36mSeriesFormatter.to_string\u001b[1;34m(self)\u001b[0m\n\u001b[0;32m    416\u001b[0m \u001b[38;5;28;01mif\u001b[39;00m footer:\n\u001b[0;32m    417\u001b[0m     result \u001b[38;5;241m+\u001b[39m\u001b[38;5;241m=\u001b[39m \u001b[38;5;124m\"\u001b[39m\u001b[38;5;130;01m\\n\u001b[39;00m\u001b[38;5;124m\"\u001b[39m \u001b[38;5;241m+\u001b[39m footer\n\u001b[1;32m--> 419\u001b[0m \u001b[38;5;28;01mreturn\u001b[39;00m \u001b[38;5;28mstr\u001b[39m(\u001b[38;5;124;43m\"\u001b[39;49m\u001b[38;5;124;43m\"\u001b[39;49m\u001b[38;5;241;43m.\u001b[39;49m\u001b[43mjoin\u001b[49m\u001b[43m(\u001b[49m\u001b[43mresult\u001b[49m\u001b[43m)\u001b[49m)\n",
      "\u001b[1;31mMemoryError\u001b[0m: "
     ]
    },
    {
     "data": {
      "image/png": "[encoded data removed]",
      "text/plain": [
       "<Figure size 1800x1296 with 1 Axes>"
      ]
     },
     "metadata": {},
     "output_type": "display_data"
    }
   ],
   "source": [
    "sns.set_style(\"darkgrid\")\n",
    "f, ax = plt.subplots(figsize=(25,18))\n",
    "ax = sns.boxplot(data=merge_df, x='price', y='product_group_name')\n",
    "ax.set_xlabel('Price outliers', fontsize=22)\n",
    "ax.set_ylabel('Index names', fontsize=22)\n",
    "ax.xaxis.set_tick_params(labelsize=22)\n",
    "ax.yaxis.set_tick_params(labelsize=22)\n",
    "plt.show()"
   ]
  },
  {
   "cell_type": "code",
   "execution_count": null,
   "id": "cf8783ac",
   "metadata": {},
   "outputs": [],
   "source": []
  },
  {
   "cell_type": "code",
   "execution_count": null,
   "id": "defbb29f",
   "metadata": {},
   "outputs": [],
   "source": []
  },
  {
   "cell_type": "code",
   "execution_count": null,
   "id": "73dd3a7a",
   "metadata": {},
   "outputs": [],
   "source": []
  }
 ],
 "metadata": {
  "kernelspec": {
   "display_name": "Python 3 (ipykernel)",
   "language": "python",
   "name": "python3"
  },
  "language_info": {
   "codemirror_mode": {
    "name": "ipython",
    "version": 3
   },
   "file_extension": ".py",
   "mimetype": "text/x-python",
   "name": "python",
   "nbconvert_exporter": "python",
   "pygments_lexer": "ipython3",
   "version": "3.9.7"
  }
 },
 "nbformat": 4,
 "nbformat_minor": 5
}
